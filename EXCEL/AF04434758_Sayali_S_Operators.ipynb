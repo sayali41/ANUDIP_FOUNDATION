{
  "nbformat": 4,
  "nbformat_minor": 0,
  "metadata": {
    "colab": {
      "provenance": []
    },
    "kernelspec": {
      "name": "python3",
      "display_name": "Python 3"
    },
    "language_info": {
      "name": "python"
    }
  },
  "cells": [
    {
      "cell_type": "markdown",
      "source": [
        "###1.\tWrite a Python program to take two numbers as input from the user and display their sum."
      ],
      "metadata": {
        "id": "bVxbCpjbNj7M"
      }
    },
    {
      "cell_type": "code",
      "execution_count": null,
      "metadata": {
        "colab": {
          "base_uri": "https://localhost:8080/"
        },
        "id": "ko8nNkPAMGfo",
        "outputId": "4257c396-68f2-4ea2-84fe-d5e045088d0b"
      },
      "outputs": [
        {
          "output_type": "stream",
          "name": "stdout",
          "text": [
            "Enter the number = 40\n",
            "Enter 2nd number = 70\n",
            "Addition of  40 and 70 is = 110\n"
          ]
        }
      ],
      "source": [
        "num1=int(input(\"Enter the number = \"))\n",
        "num2= int(input(\"Enter 2nd number = \"))\n",
        "add=num1+num2\n",
        "print(\"Addition of \",num1,\"and\" , num2, \"is =\",add)"
      ]
    },
    {
      "cell_type": "markdown",
      "source": [
        "###2.\tCalculate and print the midpoint of two numbers entered by the user."
      ],
      "metadata": {
        "id": "aLGVdnhRPBYH"
      }
    },
    {
      "cell_type": "code",
      "source": [
        "\n",
        "num1 = int(input(\"Enter the first number: \"))\n",
        "num2 = int(input(\"Enter the second number: \"))\n",
        "midpoint = calculate_midpoint(num1, num2)\n",
        "print(\"The midpoint of\",num1,\"and\",num2,\"is = \", midpoint)\n"
      ],
      "metadata": {
        "colab": {
          "base_uri": "https://localhost:8080/"
        },
        "id": "PjDkwjznO2S4",
        "outputId": "62ff18d0-c04b-42d2-cbf7-1e2eec16d561"
      },
      "execution_count": null,
      "outputs": [
        {
          "output_type": "stream",
          "name": "stdout",
          "text": [
            "Enter the first number: 20\n",
            "Enter the second number: 40\n",
            "The midpoint of 20 and 40 is =  30.0\n"
          ]
        }
      ]
    },
    {
      "cell_type": "markdown",
      "source": [
        "###3.\tWrite a Python program to calculate the area of a triangle using the formula: area = 0.5 * base * height."
      ],
      "metadata": {
        "id": "v0Zw3syvR6y6"
      }
    },
    {
      "cell_type": "code",
      "source": [
        "base = int (input(\"Enter a base of Triangle = \"))\n",
        "height = int (input(\"Enter a height of Triangle =\"))\n",
        "area= 0.5 * base * height\n",
        "print(\"Area of triangle which has base = \",base ,\" and height = \",height,\" is = \",area)"
      ],
      "metadata": {
        "colab": {
          "base_uri": "https://localhost:8080/"
        },
        "id": "gsp6NSNJSCbo",
        "outputId": "26e3f0b2-889c-4ad0-9380-9ca2b0cb0403"
      },
      "execution_count": null,
      "outputs": [
        {
          "output_type": "stream",
          "name": "stdout",
          "text": [
            "Enter a base of Triangle = 20\n",
            "Enter a height of Triangle =40\n",
            "Area of triangle which has base =  20  and height =  40  is =  400.0\n"
          ]
        }
      ]
    },
    {
      "cell_type": "markdown",
      "source": [
        "###4.\tTake three numbers as input from the user and display their product."
      ],
      "metadata": {
        "id": "VFJSJk2WYL_G"
      }
    },
    {
      "cell_type": "code",
      "source": [
        "num1 = int(input(\"Enter the first number: \"))\n",
        "num2 = int(input(\"Enter the second number: \"))\n",
        "num3 = int(input(\"Enter the third number: \"))\n",
        "product = num1*num2*num3\n",
        "print(\"Product of numbers which has first number = \",num1,\"second number\",num2,\"third number\",num3,\"is = \",product)\n",
        "\n"
      ],
      "metadata": {
        "colab": {
          "base_uri": "https://localhost:8080/"
        },
        "id": "UMkoaS4CYSiI",
        "outputId": "071e086f-474a-457d-d706-418137604b2a"
      },
      "execution_count": null,
      "outputs": [
        {
          "output_type": "stream",
          "name": "stdout",
          "text": [
            "Enter the first number: 3\n",
            "Enter the second number: 7\n",
            "Enter the third number: 9\n",
            "Product of numbers which has first number =  3 second number 7 third number 9 is =  189\n"
          ]
        }
      ]
    },
    {
      "cell_type": "markdown",
      "source": [
        "###5.\tTake a number as input and display its square and cube."
      ],
      "metadata": {
        "id": "VQhSM_n5IpUO"
      }
    },
    {
      "cell_type": "code",
      "source": [
        "num1=int(input(\"Enter the number =\"))\n",
        "square = num1 ** 2\n",
        "cube = num1 ** 3\n",
        "print(\"The Square and cude of number\",num1,\"is = \",square,cube)"
      ],
      "metadata": {
        "colab": {
          "base_uri": "https://localhost:8080/"
        },
        "id": "D5BkFucBI0nH",
        "outputId": "19595271-9668-47d9-93a6-45da0c4a832f"
      },
      "execution_count": null,
      "outputs": [
        {
          "output_type": "stream",
          "name": "stdout",
          "text": [
            "Enter the number =5\n",
            "The Square and cude of number 5 is =  25 125\n"
          ]
        }
      ]
    },
    {
      "cell_type": "markdown",
      "source": [
        "###6.\tTake two numbers as input and display their quotient and remainder."
      ],
      "metadata": {
        "id": "uqV7IVEPJ_ET"
      }
    },
    {
      "cell_type": "code",
      "source": [
        "num1 = int(input(\"Enter the first number: \"))\n",
        "num2 = int(input(\"Enter the second number: \"))\n",
        "quotient = num1 // num2\n",
        "remainder = num1 % num2\n",
        "print(\"The quotient and remainder of first number\",num1, \"and second number\",num2, \"is = \", quotient ,remainder)"
      ],
      "metadata": {
        "colab": {
          "base_uri": "https://localhost:8080/"
        },
        "id": "dtLV85xxKIe6",
        "outputId": "5ab21473-1512-48ad-a336-73913eed4812"
      },
      "execution_count": null,
      "outputs": [
        {
          "output_type": "stream",
          "name": "stdout",
          "text": [
            "Enter the first number: 4\n",
            "Enter the second number: 8\n",
            "The quotient and remainder of first number 4 and second number 8 is =  0 4\n"
          ]
        }
      ]
    },
    {
      "cell_type": "code",
      "source": [],
      "metadata": {
        "id": "6pkDEuwMJ8xR"
      },
      "execution_count": null,
      "outputs": []
    },
    {
      "cell_type": "markdown",
      "source": [
        "###7.\tTake three numbers as input and display their average."
      ],
      "metadata": {
        "id": "hAILmaobMWbO"
      }
    },
    {
      "cell_type": "code",
      "source": [
        "num1 = int(input(\"Enter the first number: \"))\n",
        "num2 = int(input(\"Enter the second number: \"))\n",
        "num3 = int(input(\"Enter the third number: \"))\n",
        "avg = (num1+num2+num3)/3\n",
        "print(\"The average of first number\",num1,\"second number\",num2,\"and third number\",num3,\"is =\",avg)\n"
      ],
      "metadata": {
        "colab": {
          "base_uri": "https://localhost:8080/"
        },
        "id": "CzeNpBV5Men3",
        "outputId": "d896a71e-e02e-4c0f-8f7e-8e524c640095"
      },
      "execution_count": null,
      "outputs": [
        {
          "output_type": "stream",
          "name": "stdout",
          "text": [
            "Enter the first number: 4\n",
            "Enter the second number: 6\n",
            "Enter the third number: 2\n",
            "The average of first number 4 second number 6 and third number 2 is = 4.0\n"
          ]
        }
      ]
    },
    {
      "cell_type": "markdown",
      "source": [
        "###8.\tWrite a Python program to calculate the area of a rectangle using the formula: area = length * width."
      ],
      "metadata": {
        "id": "Xybv4yErOfxC"
      }
    },
    {
      "cell_type": "code",
      "source": [
        "length = int (input(\"Enter a length of rectangle = \"))\n",
        "width = int (input(\"Enter a width of rectangle =\"))\n",
        "area = length * width\n",
        "print(\"Area of rectangle which has length\",length,\"and width\",width,\"is = \",area)"
      ],
      "metadata": {
        "colab": {
          "base_uri": "https://localhost:8080/"
        },
        "id": "yGUUH0bwOlMc",
        "outputId": "20ad28fd-38fd-4ebd-f16d-62ca154fed32"
      },
      "execution_count": null,
      "outputs": [
        {
          "output_type": "stream",
          "name": "stdout",
          "text": [
            "Enter a length of rectangle = 56\n",
            "Enter a width of rectangle =45\n",
            "Area of rectangle which has length 56 and width 45 is =  2520\n"
          ]
        }
      ]
    },
    {
      "cell_type": "markdown",
      "source": [
        "###9.\tTake five numbers as input representing marks obtained and total marks.\n",
        "Display the percentage."
      ],
      "metadata": {
        "id": "5eOVYDDyP7X_"
      }
    },
    {
      "cell_type": "code",
      "source": [
        "sub1=int(input(\"Enter the marks for sub1 out of 100 \"))\n",
        "sub2=int(input(\"Enter the marks for sub2 out of 100 \"))\n",
        "sub3=int(input(\"Enter the marks for sub3 out of 100 \"))\n",
        "sub4=int(input(\"Enter the marks for sub4 out of 100 \"))\n",
        "sub5=int(input(\"Enter the marks for sub5 out of 100 \"))\n",
        "total_marks= sub1+sub2+sub3+sub4+sub5\n",
        "\n",
        "print(\"Total marks are = \",total_marks)\n",
        "\n",
        "percentage=(total_marks/500)*100\n",
        "print(\"And Percentage are = \",percentage)"
      ],
      "metadata": {
        "id": "Pzl8MvZBQCLs",
        "colab": {
          "base_uri": "https://localhost:8080/"
        },
        "outputId": "e3aad2b5-8b27-4bf0-f95d-fd86cf8d8f48"
      },
      "execution_count": null,
      "outputs": [
        {
          "output_type": "stream",
          "name": "stdout",
          "text": [
            "Enter the marks for sub1 out of 100 20\n",
            "Enter the marks for sub2 out of 100 30\n",
            "Enter the marks for sub3 out of 100 40\n",
            "Enter the marks for sub4 out of 100 50\n",
            "Enter the marks for sub5 out of 100 60\n",
            "Total marks are =  200\n",
            "And Percentage are =  40.0\n"
          ]
        }
      ]
    },
    {
      "cell_type": "markdown",
      "source": [
        "###1.Take two numbers as input from the user and display their difference."
      ],
      "metadata": {
        "id": "tivT4l7dMeep"
      }
    },
    {
      "cell_type": "code",
      "source": [
        "num1 = int(input(\"Enter the first number: \"))\n",
        "num2 = int(input(\"Enter the second number: \"))\n",
        "difference = num1 - num2\n",
        "print(\"The difference between the two numbers is:\", difference)"
      ],
      "metadata": {
        "colab": {
          "base_uri": "https://localhost:8080/"
        },
        "id": "TXvt8OTiMzDD",
        "outputId": "2416c23a-2af3-4832-a6cb-1681fbade00c"
      },
      "execution_count": null,
      "outputs": [
        {
          "output_type": "stream",
          "name": "stdout",
          "text": [
            "Enter the first number: 50\n",
            "Enter the second number: 20\n",
            "The difference between the two numbers is: 30\n"
          ]
        }
      ]
    },
    {
      "cell_type": "markdown",
      "source": [
        "###2.Write a Python program to calculate the perimeter of a rectangle using the formula: perimeter = 2 * (length + width)"
      ],
      "metadata": {
        "id": "Mv5zq6UONPGG"
      }
    },
    {
      "cell_type": "code",
      "source": [
        "length=int(input(\"Enter the length of rectangle = \"))\n",
        "width=int(input(\"Enter the width of rectangle = \"))\n",
        "perimeter = 2 * (length + width)\n",
        "print(\"The perimeter of rectangle of length\",length,\"And width\",width,\"is = \",perimeter)"
      ],
      "metadata": {
        "colab": {
          "base_uri": "https://localhost:8080/"
        },
        "id": "tLFrkRLDNX7q",
        "outputId": "6c71acd9-a6ac-4918-882a-9be19424f9d2"
      },
      "execution_count": null,
      "outputs": [
        {
          "output_type": "stream",
          "name": "stdout",
          "text": [
            "Enter the length of rectangle = 40\n",
            "Enter the width of rectangle = 30\n",
            "The perimeter of rectangle of length 40 And width 30 is =  140\n"
          ]
        }
      ]
    },
    {
      "cell_type": "markdown",
      "source": [
        "###3.Take a number as input from the user and display 10 times that number."
      ],
      "metadata": {
        "id": "5SDHNu_MOPl-"
      }
    },
    {
      "cell_type": "code",
      "source": [
        "num = int(input(\"Enter a number: \"))\n",
        "result = num * 10\n",
        "print(\"10 times the number is = \", result)"
      ],
      "metadata": {
        "colab": {
          "base_uri": "https://localhost:8080/"
        },
        "id": "qSyHPDPqOVcM",
        "outputId": "30551e09-377f-4bbb-f8df-c8c938727b60"
      },
      "execution_count": null,
      "outputs": [
        {
          "output_type": "stream",
          "name": "stdout",
          "text": [
            "Enter a number: 2\n",
            "10 times the number is =  20\n"
          ]
        }
      ]
    },
    {
      "cell_type": "markdown",
      "source": [
        "###4.Write a Python program to calculate the average of four numbers entered by the user."
      ],
      "metadata": {
        "id": "AweqyNLnPApZ"
      }
    },
    {
      "cell_type": "code",
      "source": [
        "num1 = int(input(\"Enter the first number: \"))\n",
        "num2 = int(input(\"Enter the second number: \"))\n",
        "num3 = int(input(\"Enter the third number: \"))\n",
        "num4 = int(input(\"Enter the fourth number: \"))\n",
        "avg= (num1+num2+num3+num4)/4\n",
        "print(\"The average of first four number is = \",avg)\n"
      ],
      "metadata": {
        "colab": {
          "base_uri": "https://localhost:8080/"
        },
        "id": "VAl7uTKWPIEU",
        "outputId": "58380ec8-3e33-4688-a89e-68cc4e784d0a"
      },
      "execution_count": null,
      "outputs": [
        {
          "output_type": "stream",
          "name": "stdout",
          "text": [
            "Enter the first number: 4\n",
            "Enter the second number: 6\n",
            "Enter the third number: 8\n",
            "Enter the fourth number: 2\n",
            "The average of first four number is =  5.0\n"
          ]
        }
      ]
    },
    {
      "cell_type": "markdown",
      "source": [
        "###5.Write a Python program to swap two numbers using a temporary variable."
      ],
      "metadata": {
        "id": "Pogxo50HP_DX"
      }
    },
    {
      "cell_type": "code",
      "source": [
        "num1 = int(input(\"Enter the first number \"))\n",
        "num2 = int(input(\"Enter the second number \"))\n",
        "print(\"Before swapping:\")\n",
        "print(\"First number:\", num1)\n",
        "print(\"Second number:\", num2)\n",
        "temp = num1\n",
        "num1 = num2\n",
        "num2 = temp\n",
        "print(\"After swapping:\")\n",
        "print(\"First number:\", num1)\n",
        "print(\"Second number:\", num2)\n"
      ],
      "metadata": {
        "colab": {
          "base_uri": "https://localhost:8080/"
        },
        "id": "hnnLYcmUQGGd",
        "outputId": "4b10a6ab-8bf4-45d3-da8e-eada984992e6"
      },
      "execution_count": null,
      "outputs": [
        {
          "output_type": "stream",
          "name": "stdout",
          "text": [
            "Enter the first number 9\n",
            "Enter the second number 7\n",
            "Before swapping:\n",
            "First number: 9\n",
            "Second number: 7\n",
            "After swapping:\n",
            "First number: 7\n",
            "Second number: 9\n"
          ]
        }
      ]
    },
    {
      "cell_type": "markdown",
      "source": [
        "###6.Take three numbers as input from the user and display their sum and product."
      ],
      "metadata": {
        "id": "M5YWGOyXan8p"
      }
    },
    {
      "cell_type": "code",
      "source": [
        "num1 = int(input(\"Enter the first number: \"))\n",
        "num2 = int(input(\"Enter the second number: \"))\n",
        "num3 = int(input(\"Enter the third number: \"))\n",
        "sum=num1+num2+num3\n",
        "print(\"The sum of first number\",num1,\"second number\",num2,\"And third number\",num3,\"is = \",sum)\n",
        "product=num1*num2*num3\n",
        "print(\"The product of first number\",num1,\" second number\",num2,\"And third number\",num3,\"is = \",product)"
      ],
      "metadata": {
        "colab": {
          "base_uri": "https://localhost:8080/"
        },
        "id": "-FLnrtwga15Z",
        "outputId": "2a520553-69fb-48c1-9dff-b8e2200f06a0"
      },
      "execution_count": null,
      "outputs": [
        {
          "output_type": "stream",
          "name": "stdout",
          "text": [
            "Enter the first number: 8\n",
            "Enter the second number: 6\n",
            "Enter the third number: 4\n",
            "The sum of first number 8 second number 6 And third number 4 is =  18\n",
            "The product of first number 8  second number 6 And third number 4 is =  192\n"
          ]
        }
      ]
    },
    {
      "cell_type": "markdown",
      "source": [
        "###7.Write a Python program to take two numbers as input and display the result of their multiplication."
      ],
      "metadata": {
        "id": "hc5rEpRjbvHZ"
      }
    },
    {
      "cell_type": "code",
      "source": [
        "num1 = int(input(\"Enter the first number: \"))\n",
        "num2 = int(input(\"Enter the second number: \"))\n",
        "mult=num1*num2\n",
        "print(\"The multiplication of first number\",num1,\"And second number\",num2,\"is = \",mult)"
      ],
      "metadata": {
        "colab": {
          "base_uri": "https://localhost:8080/"
        },
        "id": "kM6i-Hb5cGGx",
        "outputId": "46fd8474-ce9e-492b-ef0b-99f2095e8777"
      },
      "execution_count": null,
      "outputs": [
        {
          "output_type": "stream",
          "name": "stdout",
          "text": [
            "Enter the first number: 45\n",
            "Enter the second number: 30\n",
            "The multiplication of first number 45 And second number 30 is =  1350\n"
          ]
        }
      ]
    },
    {
      "cell_type": "markdown",
      "source": [
        "###8.Take two numbers as input and display the result of their subtraction."
      ],
      "metadata": {
        "id": "UlGjF22Hcjn5"
      }
    },
    {
      "cell_type": "code",
      "source": [
        "num1 = int(input(\"Enter the first number: \"))\n",
        "num2 = int(input(\"Enter the second number: \"))\n",
        "sub=num1-num2\n",
        "print(\"The substraction of first number\",num1,\"And second number\",num2,\"is = \",sub)"
      ],
      "metadata": {
        "colab": {
          "base_uri": "https://localhost:8080/"
        },
        "id": "-WBfBtx8cpeC",
        "outputId": "7dc6d1f6-2b47-41ef-a8ce-6b86c9f12806"
      },
      "execution_count": null,
      "outputs": [
        {
          "output_type": "stream",
          "name": "stdout",
          "text": [
            "Enter the first number: 23\n",
            "Enter the second number: 20\n",
            "The substraction of first number 23 And second number 20 is =  3\n"
          ]
        }
      ]
    },
    {
      "cell_type": "markdown",
      "source": [
        "###9.Write a Python program to find the result of dividing two numbers and display the quotient only."
      ],
      "metadata": {
        "id": "IHGKGHt8eESF"
      }
    },
    {
      "cell_type": "code",
      "source": [
        "num1 = int(input(\"Enter the first number: \"))\n",
        "num2 = int(input(\"Enter the second number: \"))\n",
        "quotient=num1/num2\n",
        "print(\"The quotient of first number\",num1,\"And second number\",num2,\"is = \",quotient)"
      ],
      "metadata": {
        "colab": {
          "base_uri": "https://localhost:8080/"
        },
        "id": "HiD1LzmceJn0",
        "outputId": "f45aaee5-110b-460b-e324-b34db22919a4"
      },
      "execution_count": null,
      "outputs": [
        {
          "output_type": "stream",
          "name": "stdout",
          "text": [
            "Enter the first number: 40\n",
            "Enter the second number: 2\n",
            "The quotient of first number 40 And second number 2 is =  20.0\n"
          ]
        }
      ]
    },
    {
      "cell_type": "markdown",
      "source": [
        "###10.Take two numbers as input and display the result of their modulus operation (remainder)."
      ],
      "metadata": {
        "id": "FCBTa8kKeuwX"
      }
    },
    {
      "cell_type": "code",
      "source": [
        "num1 = int(input(\"Enter the first number: \"))\n",
        "num2 = int(input(\"Enter the second number: \"))\n",
        "modulus=num1%num2\n",
        "print(\"The modulus of first number\",num1,\"And second number\",num2,\"is = \",modulus)"
      ],
      "metadata": {
        "colab": {
          "base_uri": "https://localhost:8080/"
        },
        "id": "WlTjVpP3e4uM",
        "outputId": "a6582041-11bd-4e05-fdd5-e72817440d4c"
      },
      "execution_count": null,
      "outputs": [
        {
          "output_type": "stream",
          "name": "stdout",
          "text": [
            "Enter the first number: 30\n",
            "Enter the second number: 15\n",
            "The modulus of first number 30 And second number 15 is =  0\n"
          ]
        }
      ]
    },
    {
      "cell_type": "markdown",
      "source": [
        "###11.Write a Python program to calculate the simple interest using the formula: SI = (P * R * T) / 100."
      ],
      "metadata": {
        "id": "-kNjggDgfYT_"
      }
    },
    {
      "cell_type": "code",
      "source": [
        "Money = int(input(\"Enter the Money: \"))                                   #  P= 1500 , R= 2%, T = 3 yrs\n",
        "Rate_of_intrest = int(input(\"Enter the rate of intrest: \"))               #   SI = P*R*T/100\n",
        "Time = int(input(\"Enter the time: \"))                                     #   SI = 1500*2*3/100\n",
        "Simple_intrest = (Money*Rate_of_intrest *Time)/100                        #   SI = 90\n",
        "print(\"The simple intrest is = \",Simple_intrest)"
      ],
      "metadata": {
        "colab": {
          "base_uri": "https://localhost:8080/"
        },
        "id": "q-x6tnc9fe8Z",
        "outputId": "e0570f68-37d7-40a2-8610-c3804d3b4471"
      },
      "execution_count": null,
      "outputs": [
        {
          "output_type": "stream",
          "name": "stdout",
          "text": [
            "Enter the Money: 1500\n",
            "Enter the rate of intrest: 2\n",
            "Enter the time: 3\n",
            "The simple intrest is =  90.0\n"
          ]
        }
      ]
    },
    {
      "cell_type": "markdown",
      "source": [
        "###12.Take the radius as input and calculate the circumference of a circle using the formula: C = 2 * π * r (use 3.14159 for π)."
      ],
      "metadata": {
        "id": "eTrirbb9AAl2"
      }
    },
    {
      "cell_type": "code",
      "source": [
        "def calculate_circumference(radius):\n",
        "    pi = 3.14159\n",
        "    circumference = 2 * pi * radius\n",
        "    return circumference\n",
        "radius = int(input(\"Enter the radius of the circle: \"))\n",
        "circumference = calculate_circumference(radius)\n",
        "print(f\"The circumference of the circle with radius {radius} is: {circumference:.2f}\")"
      ],
      "metadata": {
        "colab": {
          "base_uri": "https://localhost:8080/"
        },
        "id": "1gPITljgARHO",
        "outputId": "4c4c84f8-0f16-42ae-afa0-46975208c621"
      },
      "execution_count": 3,
      "outputs": [
        {
          "output_type": "stream",
          "name": "stdout",
          "text": [
            "Enter the radius of the circle: 5\n",
            "The circumference of the circle with radius 5 is: 31.42\n"
          ]
        }
      ]
    },
    {
      "cell_type": "markdown",
      "source": [
        "###13.Write a Python program to calculate the area of a square using the formula: area = side * side."
      ],
      "metadata": {
        "id": "k-mNDk7hDnPj"
      }
    },
    {
      "cell_type": "code",
      "source": [
        "def calculate_area_of_square(side_length):\n",
        "    area = side_length * side_length\n",
        "    return area\n",
        "side_length = float(input(\"Enter the length of the side of the square: \"))\n",
        "area = calculate_area_of_square(side_length)\n",
        "print(f\"The area of the square with side length {side_length} is: {area:.2f}\")\n"
      ],
      "metadata": {
        "colab": {
          "base_uri": "https://localhost:8080/"
        },
        "id": "JtIdyAWpDvcZ",
        "outputId": "379412dc-2947-492f-8727-274464f27eb4"
      },
      "execution_count": 4,
      "outputs": [
        {
          "output_type": "stream",
          "name": "stdout",
          "text": [
            "Enter the length of the side of the square: 4\n",
            "The area of the square with side length 4.0 is: 16.00\n"
          ]
        }
      ]
    },
    {
      "cell_type": "markdown",
      "source": [
        "###14. Take two numbers as input and display their exponential result using the power operator (**).\n"
      ],
      "metadata": {
        "id": "n9A-_A6AD_N2"
      }
    },
    {
      "cell_type": "code",
      "source": [
        "def calculate_exponential(base, exponent):\n",
        "    return base ** exponent\n",
        "base = float(input(\"Enter the base number: \"))\n",
        "exponent = float(input(\"Enter the exponent: \"))\n",
        "result = calculate_exponential(base, exponent)\n",
        "print(f\"The result of {base} raised to the power of {exponent} is: {result}\")\n"
      ],
      "metadata": {
        "colab": {
          "base_uri": "https://localhost:8080/"
        },
        "id": "ItRHFEMPEEwE",
        "outputId": "08c52ab2-9581-4301-ac81-f53a0b7249a2"
      },
      "execution_count": 5,
      "outputs": [
        {
          "output_type": "stream",
          "name": "stdout",
          "text": [
            "Enter the base number: 5\n",
            "Enter the exponent: 4\n",
            "The result of 5.0 raised to the power of 4.0 is: 625.0\n"
          ]
        }
      ]
    },
    {
      "cell_type": "markdown",
      "source": [
        "###15.Write a Python program to calculate the area of a circle using the formula: area = π * r^2."
      ],
      "metadata": {
        "id": "msbmxzcvEcqL"
      }
    },
    {
      "cell_type": "code",
      "source": [
        "def calculate_area_of_circle(radius):\n",
        "    pi = 3.14159\n",
        "    area = pi * (radius ** 2)\n",
        "    return area\n",
        "radius = float(input(\"Enter the radius of the circle: \"))\n",
        "area = calculate_area_of_circle(radius)\n",
        "print(f\"The area of the circle with radius {radius} is: {area:.2f}\")\n"
      ],
      "metadata": {
        "colab": {
          "base_uri": "https://localhost:8080/"
        },
        "id": "ECLq7c8GEi_n",
        "outputId": "40e98bde-bf1b-4227-e369-2c6933ae6f7a"
      },
      "execution_count": 6,
      "outputs": [
        {
          "output_type": "stream",
          "name": "stdout",
          "text": [
            "Enter the radius of the circle: 54\n",
            "The area of the circle with radius 54.0 is: 9160.88\n"
          ]
        }
      ]
    },
    {
      "cell_type": "markdown",
      "source": [
        "###16.Take the base and exponent as input and display the result of base raised to the exponent."
      ],
      "metadata": {
        "id": "pVaqPg01FDyj"
      }
    },
    {
      "cell_type": "code",
      "source": [
        "def calculate_power(base, exponent):\n",
        "    return base ** exponent\n",
        "base = float(input(\"Enter the base number: \"))\n",
        "exponent = float(input(\"Enter the exponent: \"))\n",
        "result = calculate_power(base, exponent)\n",
        "print(f\"The result of {base} raised to the power of {exponent} is: {result}\")\n"
      ],
      "metadata": {
        "colab": {
          "base_uri": "https://localhost:8080/"
        },
        "id": "V4rMnD9nFKSI",
        "outputId": "f8429d54-e1e4-4853-87ad-fa672355053b"
      },
      "execution_count": 7,
      "outputs": [
        {
          "output_type": "stream",
          "name": "stdout",
          "text": [
            "Enter the base number: 4\n",
            "Enter the exponent: 7\n",
            "The result of 4.0 raised to the power of 7.0 is: 16384.0\n"
          ]
        }
      ]
    },
    {
      "cell_type": "markdown",
      "source": [
        "###17.Write a Python program to convert an amount in kilometers to meters (1 km = 1000 meters)."
      ],
      "metadata": {
        "id": "83Gz3RNvFiC_"
      }
    },
    {
      "cell_type": "code",
      "source": [
        "def convert_km_to_meters(kilometers):\n",
        "    meters = kilometers * 1000\n",
        "    return meters\n",
        "kilometers = float(input(\"Enter the distance in kilometers: \"))\n",
        "meters = convert_km_to_meters(kilometers)\n",
        "print(f\"{kilometers} kilometers is equal to {meters} meters.\")\n"
      ],
      "metadata": {
        "colab": {
          "base_uri": "https://localhost:8080/"
        },
        "id": "e72ZFKtDFozl",
        "outputId": "216b0f4f-c952-4c2b-92bc-0841695acf46"
      },
      "execution_count": 8,
      "outputs": [
        {
          "output_type": "stream",
          "name": "stdout",
          "text": [
            "Enter the distance in kilometers: 6\n",
            "6.0 kilometers is equal to 6000.0 meters.\n"
          ]
        }
      ]
    },
    {
      "cell_type": "markdown",
      "source": [
        "###18.Take a number as input and display whether it is an even or odd number using modulus (%)."
      ],
      "metadata": {
        "id": "PKPKrpZwF3rF"
      }
    },
    {
      "cell_type": "code",
      "source": [
        "\n",
        "number = int(input(\"Enter a number: \"))\n",
        "if number % 2 == 0:\n",
        "    print(f\"{number} is an even number.\")\n",
        "else:\n",
        "    print(f\"{number} is an odd number.\")\n"
      ],
      "metadata": {
        "colab": {
          "base_uri": "https://localhost:8080/"
        },
        "id": "5s26q4CnF_7R",
        "outputId": "b69ea8c5-0973-4b63-a1b8-8fcb2f832320"
      },
      "execution_count": 9,
      "outputs": [
        {
          "output_type": "stream",
          "name": "stdout",
          "text": [
            "Enter a number: 4\n",
            "4 is an even number.\n"
          ]
        }
      ]
    },
    {
      "cell_type": "markdown",
      "source": [
        "###19.Write a Python program to calculate the total price of items where the price per item and number of items are provided by the user."
      ],
      "metadata": {
        "id": "r7VWshwKWYVo"
      }
    },
    {
      "cell_type": "code",
      "source": [
        "\n",
        "price_per_item = float(input(\"Enter the price per item: \"))\n",
        "number_of_items = int(input(\"Enter the number of items: \"))\n",
        "\n",
        "total_price = price_per_item * number_of_items\n",
        "\n",
        "\n",
        "print(f\"The total price for {number_of_items} items at ${price_per_item:.2f} each is: ${total_price:.2f}\")\n"
      ],
      "metadata": {
        "colab": {
          "base_uri": "https://localhost:8080/"
        },
        "id": "5soXFdytWoW4",
        "outputId": "4a4da307-42de-4476-da5d-67ded1f92a23"
      },
      "execution_count": 10,
      "outputs": [
        {
          "output_type": "stream",
          "name": "stdout",
          "text": [
            "Enter the price per item: 45\n",
            "Enter the number of items: 6\n",
            "The total price for 6 items at $45.00 each is: $270.00\n"
          ]
        }
      ]
    },
    {
      "cell_type": "markdown",
      "source": [
        "###20.Take three numbers as input from the user and display the result of multiplying the first number by the sum of the second and third numbers."
      ],
      "metadata": {
        "id": "x0GYa2IeW2Vx"
      }
    },
    {
      "cell_type": "code",
      "source": [
        "\n",
        "first_number = float(input(\"Enter the first number: \"))\n",
        "second_number = float(input(\"Enter the second number: \"))\n",
        "third_number = float(input(\"Enter the third number: \"))\n",
        "\n",
        "result = first_number * (second_number + third_number)\n",
        "\n",
        "\n",
        "print(f\"The result of multiplying {first_number} by the sum of {second_number} and {third_number} is: {result}\")\n"
      ],
      "metadata": {
        "colab": {
          "base_uri": "https://localhost:8080/"
        },
        "id": "d2xcDhhZXEep",
        "outputId": "f9832aa8-8696-48ea-eb49-9584f58ac1b9"
      },
      "execution_count": 11,
      "outputs": [
        {
          "output_type": "stream",
          "name": "stdout",
          "text": [
            "Enter the first number: 8\n",
            "Enter the second number: 3\n",
            "Enter the third number: 8\n",
            "The result of multiplying 8.0 by the sum of 3.0 and 8.0 is: 88.0\n"
          ]
        }
      ]
    },
    {
      "cell_type": "markdown",
      "source": [
        "###21.Take the base and exponent as input and display the result of base raised to the exponent."
      ],
      "metadata": {
        "id": "4yUH4ZA6XTkD"
      }
    },
    {
      "cell_type": "code",
      "source": [
        "\n",
        "base = float(input(\"Enter the base: \"))\n",
        "exponent = float(input(\"Enter the exponent: \"))\n",
        "\n",
        "\n",
        "result = base ** exponent\n",
        "\n",
        "\n",
        "print(f\"{base} raised to the power of {exponent} is: {result}\")\n"
      ],
      "metadata": {
        "colab": {
          "base_uri": "https://localhost:8080/"
        },
        "id": "e9KitOc3Xo1v",
        "outputId": "728c0608-7116-40d5-c98a-09d3da792059"
      },
      "execution_count": 12,
      "outputs": [
        {
          "output_type": "stream",
          "name": "stdout",
          "text": [
            "Enter the base: 6\n",
            "Enter the exponent: 9\n",
            "6.0 raised to the power of 9.0 is: 10077696.0\n"
          ]
        }
      ]
    },
    {
      "cell_type": "markdown",
      "source": [
        "###22. Write a Python program to calculate the speed using the formula: speed = distance / time."
      ],
      "metadata": {
        "id": "I3qRk9VsX_e1"
      }
    },
    {
      "cell_type": "code",
      "source": [
        "\n",
        "distance = float(input(\"Enter the distance (in kilometers): \"))\n",
        "time = float(input(\"Enter the time (in hours): \"))\n",
        "\n",
        "if time != 0:\n",
        "    speed = distance / time\n",
        "\n",
        "    print(f\"The speed is: {speed:.2f} kilometers per hour.\")\n",
        "else:\n",
        "    print(\"Time cannot be zero.\")\n"
      ],
      "metadata": {
        "colab": {
          "base_uri": "https://localhost:8080/"
        },
        "id": "78BPaKGCYDzp",
        "outputId": "4ac26be4-576e-4cf1-dced-ffdb93d8c06c"
      },
      "execution_count": 13,
      "outputs": [
        {
          "output_type": "stream",
          "name": "stdout",
          "text": [
            "Enter the distance (in kilometers): 67\n",
            "Enter the time (in hours): 4\n",
            "The speed is: 16.75 kilometers per hour.\n"
          ]
        }
      ]
    }
  ]
}